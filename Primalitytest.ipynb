{
  "nbformat": 4,
  "nbformat_minor": 0,
  "metadata": {
    "colab": {
      "name": "Primalitytest.ipynb",
      "provenance": [],
      "collapsed_sections": [],
      "include_colab_link": true
    },
    "kernelspec": {
      "name": "python3",
      "display_name": "Python 3"
    }
  },
  "cells": [
    {
      "cell_type": "markdown",
      "metadata": {
        "id": "view-in-github",
        "colab_type": "text"
      },
      "source": [
        "<a href=\"https://colab.research.google.com/github/ananyateklu/Primality-testing/blob/main/Primalitytest.ipynb\" target=\"_parent\"><img src=\"https://colab.research.google.com/assets/colab-badge.svg\" alt=\"Open In Colab\"/></a>"
      ]
    },
    {
      "cell_type": "code",
      "metadata": {
        "id": "-UDHR5X6N9_Z"
      },
      "source": [
        "#run all the functions before running the tests"
      ],
      "execution_count": 2,
      "outputs": []
    },
    {
      "cell_type": "code",
      "metadata": {
        "id": "PP53y6EhWpuD"
      },
      "source": [
        "import random"
      ],
      "execution_count": 3,
      "outputs": []
    },
    {
      "cell_type": "code",
      "metadata": {
        "id": "uECiHw_1u5mz"
      },
      "source": [
        "def fermat(num):\n",
        "  s = 8\n",
        "  for i in range(s):\n",
        "      randomA = random.randint(2,num-1)\n",
        "      exp = pow(randomA,(num-1),num)\n",
        "      if exp != 1:\n",
        "        if i+1 != 1:\n",
        "          print(\"Candidate(s) tried:\", i+1, \"the number was found to be composite\")\n",
        "        return False\n",
        "  return True"
      ],
      "execution_count": 4,
      "outputs": []
    },
    {
      "cell_type": "markdown",
      "metadata": {
        "id": "Gw_ZXyWVHYuQ"
      },
      "source": [
        "**Testing fermat with numbers we know**\n",
        "\n",
        "We print the number of candidates tried only if it took more than one candidate for that number to be determined as composite (As seen for the carmichael numbers)."
      ]
    },
    {
      "cell_type": "code",
      "metadata": {
        "id": "DNxct1cGOZ30"
      },
      "source": [
        "#fermat returns True if the number is likely prime and False if number is composite"
      ],
      "execution_count": null,
      "outputs": []
    },
    {
      "cell_type": "code",
      "metadata": {
        "id": "pCsZQpD17X5R",
        "colab": {
          "base_uri": "https://localhost:8080/"
        },
        "outputId": "c69292fb-cffc-49f2-ef96-6ac3115c3d15"
      },
      "source": [
        "fermat(7)"
      ],
      "execution_count": null,
      "outputs": [
        {
          "output_type": "execute_result",
          "data": {
            "text/plain": [
              "True"
            ]
          },
          "metadata": {
            "tags": []
          },
          "execution_count": 6
        }
      ]
    },
    {
      "cell_type": "code",
      "metadata": {
        "id": "HZH4HGJ9HW5K",
        "colab": {
          "base_uri": "https://localhost:8080/"
        },
        "outputId": "d84a7eda-e113-464f-cce9-9f8dddfbfbfe"
      },
      "source": [
        "fermat(44)"
      ],
      "execution_count": null,
      "outputs": [
        {
          "output_type": "execute_result",
          "data": {
            "text/plain": [
              "False"
            ]
          },
          "metadata": {
            "tags": []
          },
          "execution_count": 7
        }
      ]
    },
    {
      "cell_type": "code",
      "metadata": {
        "id": "7Bs03hUKKziB",
        "colab": {
          "base_uri": "https://localhost:8080/"
        },
        "outputId": "1aec99bd-6865-4591-bf5f-c92e66b025fe"
      },
      "source": [
        "# Small carmichael number\n",
        "fermat(561)"
      ],
      "execution_count": null,
      "outputs": [
        {
          "output_type": "stream",
          "text": [
            "Candidate(s) tried: 4 the number was found to be composite\n"
          ],
          "name": "stdout"
        },
        {
          "output_type": "execute_result",
          "data": {
            "text/plain": [
              "False"
            ]
          },
          "metadata": {
            "tags": []
          },
          "execution_count": 8
        }
      ]
    },
    {
      "cell_type": "code",
      "metadata": {
        "id": "e4XgvAtjLQj1",
        "colab": {
          "base_uri": "https://localhost:8080/"
        },
        "outputId": "781fd69c-4e10-40aa-9e6a-689c3de6cec3"
      },
      "source": [
        "# Small carmichael number\n",
        "fermat(41041)"
      ],
      "execution_count": null,
      "outputs": [
        {
          "output_type": "stream",
          "text": [
            "Candidate(s) tried: 3 the number was found to be composite\n"
          ],
          "name": "stdout"
        },
        {
          "output_type": "execute_result",
          "data": {
            "text/plain": [
              "False"
            ]
          },
          "metadata": {
            "tags": []
          },
          "execution_count": 9
        }
      ]
    },
    {
      "cell_type": "code",
      "metadata": {
        "id": "WqiYnvlCK8L7",
        "colab": {
          "base_uri": "https://localhost:8080/"
        },
        "outputId": "d2a58272-3344-4db9-c2ec-563f91cdc940"
      },
      "source": [
        "# Small carmichael number\n",
        "fermat(75361)"
      ],
      "execution_count": null,
      "outputs": [
        {
          "output_type": "execute_result",
          "data": {
            "text/plain": [
              "False"
            ]
          },
          "metadata": {
            "tags": []
          },
          "execution_count": 10
        }
      ]
    },
    {
      "cell_type": "code",
      "metadata": {
        "id": "eU_RYau0JO3C",
        "colab": {
          "base_uri": "https://localhost:8080/"
        },
        "outputId": "e857b579-3833-4fdf-c50a-b21700c883c5"
      },
      "source": [
        "# Large composite number\n",
        "fermat(12321312312329328403408830842802348023840293840932840932840932814214245356465869656245)"
      ],
      "execution_count": null,
      "outputs": [
        {
          "output_type": "execute_result",
          "data": {
            "text/plain": [
              "False"
            ]
          },
          "metadata": {
            "tags": []
          },
          "execution_count": 11
        }
      ]
    },
    {
      "cell_type": "code",
      "metadata": {
        "id": "yG_BkotIHf1g",
        "colab": {
          "base_uri": "https://localhost:8080/"
        },
        "outputId": "7abd4dc8-448e-4de6-fb80-729d7f2b5d25"
      },
      "source": [
        "# 512-bit prime number\n",
        "fermat(2588581499652668706262680658195108454530812235293263004084946464639743014164813225271477183104565594250716340256499812469554924516789964060808344516730359)"
      ],
      "execution_count": null,
      "outputs": [
        {
          "output_type": "execute_result",
          "data": {
            "text/plain": [
              "True"
            ]
          },
          "metadata": {
            "tags": []
          },
          "execution_count": 12
        }
      ]
    },
    {
      "cell_type": "code",
      "metadata": {
        "id": "XJ35CT-NFLWg",
        "colab": {
          "base_uri": "https://localhost:8080/"
        },
        "outputId": "5e6224ae-f72f-410d-e57b-856787753015"
      },
      "source": [
        "# Checking it manually\n",
        "n = 2588581499652668706262680658195108454530812235293263004084946464639743014164813225271477183104565594250716340256499812469554924516789964060808344516730359\n",
        "a = 8\n",
        "# a**(n-1) % n\n",
        "pow(a,(n-1),n)"
      ],
      "execution_count": null,
      "outputs": [
        {
          "output_type": "execute_result",
          "data": {
            "text/plain": [
              "1"
            ]
          },
          "metadata": {
            "tags": []
          },
          "execution_count": 13
        }
      ]
    },
    {
      "cell_type": "code",
      "metadata": {
        "id": "aop8Wx4iJCNU",
        "colab": {
          "base_uri": "https://localhost:8080/"
        },
        "outputId": "5d62f222-67d1-4133-8516-cbad1daa5504"
      },
      "source": [
        "# Checking it manually\n",
        "n = 2588581499652668706262680658195108454530812235293263004084946464639743014164813225271477183104565594250716340256499812469554924516789964060808344516730359\n",
        "a = 25\n",
        "# a**(n-1) % n\n",
        "pow(a,(n-1),n)"
      ],
      "execution_count": null,
      "outputs": [
        {
          "output_type": "execute_result",
          "data": {
            "text/plain": [
              "1"
            ]
          },
          "metadata": {
            "tags": []
          },
          "execution_count": 14
        }
      ]
    },
    {
      "cell_type": "code",
      "metadata": {
        "id": "NSZKmhnEIgrp",
        "colab": {
          "base_uri": "https://localhost:8080/"
        },
        "outputId": "7fe66fc2-0846-468b-d38e-ebd0c338c775"
      },
      "source": [
        "# 1024-bit prime number\n",
        "fermat(108593735936518757334900668576824809970324005704740094757859252924225555058142245027284361356916885103693914441941837888206016673024573886250899195966011594168818301369908860774971876630499915903942969115598410139567869584423300049882896296724997455720643200366846242176391672721179057965419767060230762297451)"
      ],
      "execution_count": null,
      "outputs": [
        {
          "output_type": "execute_result",
          "data": {
            "text/plain": [
              "True"
            ]
          },
          "metadata": {
            "tags": []
          },
          "execution_count": 15
        }
      ]
    },
    {
      "cell_type": "code",
      "metadata": {
        "id": "2hX5MEa4IsHa",
        "colab": {
          "base_uri": "https://localhost:8080/"
        },
        "outputId": "c902a04a-36c1-47ac-96ca-e8251ed0eaac"
      },
      "source": [
        "# Checking it manually\n",
        "n = 108593735936518757334900668576824809970324005704740094757859252924225555058142245027284361356916885103693914441941837888206016673024573886250899195966011594168818301369908860774971876630499915903942969115598410139567869584423300049882896296724997455720643200366846242176391672721179057965419767060230762297451\n",
        "a = 9\n",
        "# a**(n-1) % n\n",
        "pow(a,(n-1),n)"
      ],
      "execution_count": null,
      "outputs": [
        {
          "output_type": "execute_result",
          "data": {
            "text/plain": [
              "1"
            ]
          },
          "metadata": {
            "tags": []
          },
          "execution_count": 18
        }
      ]
    },
    {
      "cell_type": "code",
      "metadata": {
        "id": "szhy6ZeXKbgB",
        "colab": {
          "base_uri": "https://localhost:8080/",
          "height": 195
        },
        "outputId": "bf5c1b0b-4abf-4b5d-c666-33b136297bac"
      },
      "source": [
        "a = 42\n",
        "z = n*nTwo\n",
        "fermat"
      ],
      "execution_count": null,
      "outputs": [
        {
          "output_type": "error",
          "ename": "NameError",
          "evalue": "ignored",
          "traceback": [
            "\u001b[0;31m---------------------------------------------------------------------------\u001b[0m",
            "\u001b[0;31mNameError\u001b[0m                                 Traceback (most recent call last)",
            "\u001b[0;32m<ipython-input-19-999eabd349b8>\u001b[0m in \u001b[0;36m<module>\u001b[0;34m()\u001b[0m\n\u001b[1;32m      1\u001b[0m \u001b[0ma\u001b[0m \u001b[0;34m=\u001b[0m \u001b[0;36m42\u001b[0m\u001b[0;34m\u001b[0m\u001b[0;34m\u001b[0m\u001b[0m\n\u001b[0;32m----> 2\u001b[0;31m \u001b[0mz\u001b[0m \u001b[0;34m=\u001b[0m \u001b[0mn\u001b[0m\u001b[0;34m*\u001b[0m\u001b[0mnTwo\u001b[0m\u001b[0;34m\u001b[0m\u001b[0;34m\u001b[0m\u001b[0m\n\u001b[0m\u001b[1;32m      3\u001b[0m \u001b[0mfermat\u001b[0m\u001b[0;34m\u001b[0m\u001b[0;34m\u001b[0m\u001b[0m\n",
            "\u001b[0;31mNameError\u001b[0m: name 'nTwo' is not defined"
          ]
        }
      ]
    },
    {
      "cell_type": "code",
      "metadata": {
        "id": "3-COI-SsJHwu",
        "colab": {
          "base_uri": "https://localhost:8080/"
        },
        "outputId": "9ec58506-71eb-44f6-bc61-8e4e0ab77e8f"
      },
      "source": [
        "# Checking it manually\n",
        "nTwo = 108593735936518757334900668576824809970324005704740094757859252924225555058142245027284361356916885103693914441941837888206016673024573886250899195966011594168818301369908860774971876630499915903942969115598410139567869584423300049882896296724997455720643200366846242176391672721179057965419767060230762297451\n",
        "a = 100\n",
        "# a**(n-1) % n\n",
        "pow(a,(nTwo-1),nTwo)"
      ],
      "execution_count": null,
      "outputs": [
        {
          "output_type": "execute_result",
          "data": {
            "text/plain": [
              "1"
            ]
          },
          "metadata": {
            "tags": []
          },
          "execution_count": 21
        }
      ]
    },
    {
      "cell_type": "code",
      "metadata": {
        "id": "hUMmCTUPJvjD",
        "colab": {
          "base_uri": "https://localhost:8080/",
          "height": 195
        },
        "outputId": "3eef876f-82ce-4a49-fc49-e83b75711633"
      },
      "source": [
        "# Product of a 512 bit and a 1024 bit prime number(from number). Should be composite\n",
        "z = n*nTwo\n",
        "fermat(z)"
      ],
      "execution_count": null,
      "outputs": [
        {
          "output_type": "error",
          "ename": "NameError",
          "evalue": "ignored",
          "traceback": [
            "\u001b[0;31m---------------------------------------------------------------------------\u001b[0m",
            "\u001b[0;31mNameError\u001b[0m                                 Traceback (most recent call last)",
            "\u001b[0;32m<ipython-input-16-b757265babe8>\u001b[0m in \u001b[0;36m<module>\u001b[0;34m()\u001b[0m\n\u001b[1;32m      1\u001b[0m \u001b[0;31m# Product of a 512 bit and a 1024 bit prime number(from number). Should be composite\u001b[0m\u001b[0;34m\u001b[0m\u001b[0;34m\u001b[0m\u001b[0;34m\u001b[0m\u001b[0m\n\u001b[0;32m----> 2\u001b[0;31m \u001b[0mz\u001b[0m \u001b[0;34m=\u001b[0m \u001b[0mn\u001b[0m\u001b[0;34m*\u001b[0m\u001b[0mnTwo\u001b[0m\u001b[0;34m\u001b[0m\u001b[0;34m\u001b[0m\u001b[0m\n\u001b[0m\u001b[1;32m      3\u001b[0m \u001b[0mfermat\u001b[0m\u001b[0;34m(\u001b[0m\u001b[0mz\u001b[0m\u001b[0;34m)\u001b[0m\u001b[0;34m\u001b[0m\u001b[0;34m\u001b[0m\u001b[0m\n",
            "\u001b[0;31mNameError\u001b[0m: name 'nTwo' is not defined"
          ]
        }
      ]
    },
    {
      "cell_type": "code",
      "metadata": {
        "id": "gcWgnMEzOFwW"
      },
      "source": [
        "def prime(smallLength):\n",
        "  primeFound = False\n",
        "  numbersTried = 0\n",
        "  while not(primeFound):\n",
        "    num = 2\n",
        "    while(num % 2 == 0):\n",
        "      if smallLength:\n",
        "        num = random.getrandbits(512)\n",
        "      else:\n",
        "        num = random.getrandbits(1024)\n",
        "    \n",
        "    primeFound = fermat(num)\n",
        "    numbersTried = numbersTried + 1\n",
        "\n",
        "  print(\"Prime number is\", num)\n",
        "  print(\"Found after trying\", numbersTried, \"numbers\")"
      ],
      "execution_count": null,
      "outputs": []
    },
    {
      "cell_type": "code",
      "metadata": {
        "id": "DindXvKASu7D",
        "colab": {
          "base_uri": "https://localhost:8080/"
        },
        "outputId": "9fa3546d-5429-43ce-e858-f901b3e2b30e"
      },
      "source": [
        "# We pass in True to use integer of bit 512\n",
        "prime(True)"
      ],
      "execution_count": null,
      "outputs": [
        {
          "output_type": "stream",
          "text": [
            "Prime number is 1418615729907179682707352646515903758247000754548788286535263089385774375196037359504074499294575078893760188230033946649189196484001101521306796920000003\n",
            "Found after trying 51 numbers\n"
          ],
          "name": "stdout"
        }
      ]
    },
    {
      "cell_type": "code",
      "metadata": {
        "id": "TwHoMYpKFNzW",
        "colab": {
          "base_uri": "https://localhost:8080/"
        },
        "outputId": "e1d56e8a-151f-46f5-c92a-e79e808b3f84"
      },
      "source": [
        "# We pass in False to use integer of bit 1024\n",
        "prime(False)"
      ],
      "execution_count": null,
      "outputs": [
        {
          "output_type": "stream",
          "text": [
            "Prime number is 19611978414249019442295059169113747581554375698603909112112172548100697698379615054165046582668136869658705958235487697861169637060242078172680056633198257681552734636269536873359028970165592245406555996870845756588930645229810453556176650286544398877905626493533897964297449104086531778756457641966036262677\n",
            "Found after trying 32 numbers\n"
          ],
          "name": "stdout"
        }
      ]
    },
    {
      "cell_type": "markdown",
      "metadata": {
        "id": "a23EsVsjMZmq"
      },
      "source": [
        "**When we ran it:**\n",
        "\n",
        "\n",
        "For the 512 bit integer, 78 numbers were tried before we found a prime number. The number of candidates tried for each of those 78 numbers was 1(since we would see print statements when the number of candidates is more than 1). The average number of operations for each of the 78 numbers then is 1.\n",
        "\n",
        "For the 1024 bit integer, 621 numbers were tried before we found a prime number. The number of candidates tried for each of those 621 numbers was 1. The average number of operations for each of the 621 numbers then is 1."
      ]
    }
  ]
}