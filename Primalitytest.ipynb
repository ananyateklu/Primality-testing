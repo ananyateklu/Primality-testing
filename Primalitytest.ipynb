{
  "nbformat": 4,
  "nbformat_minor": 0,
  "metadata": {
    "colab": {
      "name": "Primalitytest.ipynb",
      "provenance": [],
      "collapsed_sections": [],
      "include_colab_link": true
    },
    "kernelspec": {
      "name": "python3",
      "display_name": "Python 3"
    }
  },
  "cells": [
    {
      "cell_type": "markdown",
      "metadata": {
        "id": "view-in-github",
        "colab_type": "text"
      },
      "source": [
        "<a href=\"https://colab.research.google.com/github/ananyateklu/Primality-testing/blob/main/Primalitytest.ipynb\" target=\"_parent\"><img src=\"https://colab.research.google.com/assets/colab-badge.svg\" alt=\"Open In Colab\"/></a>"
      ]
    },
    {
      "cell_type": "code",
      "metadata": {
        "id": "-UDHR5X6N9_Z"
      },
      "source": [
        "#run all the functions before running the tests"
      ],
      "execution_count": 2,
      "outputs": []
    },
    {
      "cell_type": "code",
      "metadata": {
        "id": "PP53y6EhWpuD"
      },
      "source": [
        "import random"
      ],
      "execution_count": 5,
      "outputs": []
    },
    {
      "cell_type": "code",
      "metadata": {
        "id": "uECiHw_1u5mz"
      },
      "source": [
        "def fermat(num):\n",
        "  s = 8\n",
        "  for i in range(s):\n",
        "      randomA = random.randint(2,num-1)\n",
        "      exp = pow(randomA,(num-1),num)\n",
        "      if exp != 1:\n",
        "        if i+1 != 1:\n",
        "          print(\"Candidate(s) tried:\", i+1, \"the number was found to be composite\")\n",
        "        return False\n",
        "  return True"
      ],
      "execution_count": 6,
      "outputs": []
    },
    {
      "cell_type": "markdown",
      "metadata": {
        "id": "Gw_ZXyWVHYuQ"
      },
      "source": [
        "**Testing fermat with numbers we know**\n",
        "\n",
        "We print the number of candidates tried only if it took more than one candidate for that number to be determined as composite (As seen for the carmichael numbers)."
      ]
    },
    {
      "cell_type": "code",
      "metadata": {
        "id": "DNxct1cGOZ30"
      },
      "source": [
        "#fermat returns True if the number is likely prime and False if number is composite"
      ],
      "execution_count": null,
      "outputs": []
    },
    {
      "cell_type": "code",
      "metadata": {
        "id": "pCsZQpD17X5R",
        "colab": {
          "base_uri": "https://localhost:8080/"
        },
        "outputId": "db380896-8a92-4586-cb67-3f8302d0ff1a"
      },
      "source": [
        "fermat(7)"
      ],
      "execution_count": 7,
      "outputs": [
        {
          "output_type": "execute_result",
          "data": {
            "text/plain": [
              "True"
            ]
          },
          "metadata": {
            "tags": []
          },
          "execution_count": 7
        }
      ]
    },
    {
      "cell_type": "code",
      "metadata": {
        "id": "HZH4HGJ9HW5K",
        "colab": {
          "base_uri": "https://localhost:8080/"
        },
        "outputId": "e0709b23-906f-46fe-f5fd-8be41873721e"
      },
      "source": [
        "fermat(44)"
      ],
      "execution_count": 8,
      "outputs": [
        {
          "output_type": "execute_result",
          "data": {
            "text/plain": [
              "False"
            ]
          },
          "metadata": {
            "tags": []
          },
          "execution_count": 8
        }
      ]
    },
    {
      "cell_type": "code",
      "metadata": {
        "id": "7Bs03hUKKziB",
        "colab": {
          "base_uri": "https://localhost:8080/"
        },
        "outputId": "533570b4-f4cb-4774-e361-e22f7ee89e78"
      },
      "source": [
        "# Small carmichael number\n",
        "fermat(561)"
      ],
      "execution_count": 9,
      "outputs": [
        {
          "output_type": "execute_result",
          "data": {
            "text/plain": [
              "False"
            ]
          },
          "metadata": {
            "tags": []
          },
          "execution_count": 9
        }
      ]
    },
    {
      "cell_type": "code",
      "metadata": {
        "id": "e4XgvAtjLQj1",
        "colab": {
          "base_uri": "https://localhost:8080/"
        },
        "outputId": "e0b34cd4-901e-460a-822d-700e478e1598"
      },
      "source": [
        "# Small carmichael number\n",
        "fermat(41041)"
      ],
      "execution_count": 10,
      "outputs": [
        {
          "output_type": "execute_result",
          "data": {
            "text/plain": [
              "False"
            ]
          },
          "metadata": {
            "tags": []
          },
          "execution_count": 10
        }
      ]
    },
    {
      "cell_type": "code",
      "metadata": {
        "id": "WqiYnvlCK8L7",
        "colab": {
          "base_uri": "https://localhost:8080/"
        },
        "outputId": "e62902c3-8c5d-4100-f91f-e0d9f0c33550"
      },
      "source": [
        "# Small carmichael number\n",
        "fermat(75361)"
      ],
      "execution_count": 11,
      "outputs": [
        {
          "output_type": "stream",
          "text": [
            "Candidate(s) tried: 4 the number was found to be composite\n"
          ],
          "name": "stdout"
        },
        {
          "output_type": "execute_result",
          "data": {
            "text/plain": [
              "False"
            ]
          },
          "metadata": {
            "tags": []
          },
          "execution_count": 11
        }
      ]
    },
    {
      "cell_type": "code",
      "metadata": {
        "id": "eU_RYau0JO3C",
        "colab": {
          "base_uri": "https://localhost:8080/"
        },
        "outputId": "cc3eac06-9fe0-4e5a-b0ff-22ae44a06634"
      },
      "source": [
        "# Large composite number\n",
        "fermat(12321312312329328403408830842802348023840293840932840932840932814214245356465869656245)"
      ],
      "execution_count": 12,
      "outputs": [
        {
          "output_type": "execute_result",
          "data": {
            "text/plain": [
              "False"
            ]
          },
          "metadata": {
            "tags": []
          },
          "execution_count": 12
        }
      ]
    },
    {
      "cell_type": "code",
      "metadata": {
        "id": "yG_BkotIHf1g",
        "colab": {
          "base_uri": "https://localhost:8080/"
        },
        "outputId": "eb312bc1-1224-4103-a7c8-b64edab013ad"
      },
      "source": [
        "# 512-bit prime number\n",
        "fermat(2588581499652668706262680658195108454530812235293263004084946464639743014164813225271477183104565594250716340256499812469554924516789964060808344516730359)"
      ],
      "execution_count": 13,
      "outputs": [
        {
          "output_type": "execute_result",
          "data": {
            "text/plain": [
              "True"
            ]
          },
          "metadata": {
            "tags": []
          },
          "execution_count": 13
        }
      ]
    },
    {
      "cell_type": "code",
      "metadata": {
        "id": "XJ35CT-NFLWg",
        "colab": {
          "base_uri": "https://localhost:8080/"
        },
        "outputId": "30e859cd-49d6-4280-b5b9-37681c3f4743"
      },
      "source": [
        "# Checking it manually\n",
        "n = 2588581499652668706262680658195108454530812235293263004084946464639743014164813225271477183104565594250716340256499812469554924516789964060808344516730359\n",
        "a = 8\n",
        "# a**(n-1) % n\n",
        "pow(a,(n-1),n)"
      ],
      "execution_count": 14,
      "outputs": [
        {
          "output_type": "execute_result",
          "data": {
            "text/plain": [
              "1"
            ]
          },
          "metadata": {
            "tags": []
          },
          "execution_count": 14
        }
      ]
    },
    {
      "cell_type": "code",
      "metadata": {
        "id": "aop8Wx4iJCNU",
        "colab": {
          "base_uri": "https://localhost:8080/"
        },
        "outputId": "c1eca33f-f35f-4c91-96dd-7da30e15d8eb"
      },
      "source": [
        "# Checking it manually\n",
        "n = 2588581499652668706262680658195108454530812235293263004084946464639743014164813225271477183104565594250716340256499812469554924516789964060808344516730359\n",
        "a = 25\n",
        "# a**(n-1) % n\n",
        "pow(a,(n-1),n)"
      ],
      "execution_count": 15,
      "outputs": [
        {
          "output_type": "execute_result",
          "data": {
            "text/plain": [
              "1"
            ]
          },
          "metadata": {
            "tags": []
          },
          "execution_count": 15
        }
      ]
    },
    {
      "cell_type": "code",
      "metadata": {
        "id": "NSZKmhnEIgrp",
        "colab": {
          "base_uri": "https://localhost:8080/"
        },
        "outputId": "b32fec80-3e9f-4b7d-9f0c-47591f7c5e44"
      },
      "source": [
        "# 1024-bit prime number\n",
        "fermat(108593735936518757334900668576824809970324005704740094757859252924225555058142245027284361356916885103693914441941837888206016673024573886250899195966011594168818301369908860774971876630499915903942969115598410139567869584423300049882896296724997455720643200366846242176391672721179057965419767060230762297451)"
      ],
      "execution_count": 16,
      "outputs": [
        {
          "output_type": "execute_result",
          "data": {
            "text/plain": [
              "True"
            ]
          },
          "metadata": {
            "tags": []
          },
          "execution_count": 16
        }
      ]
    },
    {
      "cell_type": "code",
      "metadata": {
        "id": "2hX5MEa4IsHa",
        "colab": {
          "base_uri": "https://localhost:8080/"
        },
        "outputId": "6f938295-ede9-4d3b-e993-96fe898a2999"
      },
      "source": [
        "# Checking it manually\n",
        "n = 108593735936518757334900668576824809970324005704740094757859252924225555058142245027284361356916885103693914441941837888206016673024573886250899195966011594168818301369908860774971876630499915903942969115598410139567869584423300049882896296724997455720643200366846242176391672721179057965419767060230762297451\n",
        "a = 9\n",
        "# a**(n-1) % n\n",
        "pow(a,(n-1),n)"
      ],
      "execution_count": 17,
      "outputs": [
        {
          "output_type": "execute_result",
          "data": {
            "text/plain": [
              "1"
            ]
          },
          "metadata": {
            "tags": []
          },
          "execution_count": 17
        }
      ]
    },
    {
      "cell_type": "code",
      "metadata": {
        "id": "3-COI-SsJHwu",
        "colab": {
          "base_uri": "https://localhost:8080/"
        },
        "outputId": "4f905a43-d09e-4209-9f80-94e1fe949976"
      },
      "source": [
        "# Checking it manually\n",
        "nTwo = 108593735936518757334900668576824809970324005704740094757859252924225555058142245027284361356916885103693914441941837888206016673024573886250899195966011594168818301369908860774971876630499915903942969115598410139567869584423300049882896296724997455720643200366846242176391672721179057965419767060230762297451\n",
        "a = 100\n",
        "# a**(n-1) % n\n",
        "pow(a,(nTwo-1),nTwo)"
      ],
      "execution_count": 19,
      "outputs": [
        {
          "output_type": "execute_result",
          "data": {
            "text/plain": [
              "1"
            ]
          },
          "metadata": {
            "tags": []
          },
          "execution_count": 19
        }
      ]
    },
    {
      "cell_type": "code",
      "metadata": {
        "id": "hUMmCTUPJvjD",
        "colab": {
          "base_uri": "https://localhost:8080/"
        },
        "outputId": "dcb6eed6-a76e-49ee-ccad-d6ed97ac0d83"
      },
      "source": [
        "# Product of a 512 bit and a 1024 bit prime number(from number). Should be composite\n",
        "z = n*nTwo\n",
        "fermat(z)"
      ],
      "execution_count": 24,
      "outputs": [
        {
          "output_type": "execute_result",
          "data": {
            "text/plain": [
              "False"
            ]
          },
          "metadata": {
            "tags": []
          },
          "execution_count": 24
        }
      ]
    },
    {
      "cell_type": "code",
      "metadata": {
        "id": "szhy6ZeXKbgB",
        "colab": {
          "base_uri": "https://localhost:8080/"
        },
        "outputId": "6c7d1a75-e8c5-4bac-ed69-cfffa7dffebe"
      },
      "source": [
        "a = 42\n",
        "z = n*nTwo\n",
        "fermat"
      ],
      "execution_count": 25,
      "outputs": [
        {
          "output_type": "execute_result",
          "data": {
            "text/plain": [
              "<function __main__.fermat>"
            ]
          },
          "metadata": {
            "tags": []
          },
          "execution_count": 25
        }
      ]
    },
    {
      "cell_type": "code",
      "metadata": {
        "id": "gcWgnMEzOFwW"
      },
      "source": [
        "def prime(smallLength):\n",
        "  primeFound = False\n",
        "  numbersTried = 0\n",
        "  while not(primeFound):\n",
        "    num = 2\n",
        "    while(num % 2 == 0):\n",
        "      if smallLength:\n",
        "        num = random.getrandbits(512)\n",
        "      else:\n",
        "        num = random.getrandbits(1024)\n",
        "    \n",
        "    primeFound = fermat(num)\n",
        "    numbersTried = numbersTried + 1\n",
        "\n",
        "  print(\"Prime number is\", num)\n",
        "  print(\"Found after trying\", numbersTried, \"numbers\")"
      ],
      "execution_count": 26,
      "outputs": []
    },
    {
      "cell_type": "code",
      "metadata": {
        "id": "DindXvKASu7D",
        "colab": {
          "base_uri": "https://localhost:8080/"
        },
        "outputId": "9ed8ec91-40c1-4523-ccdd-03c66c6008dd"
      },
      "source": [
        "# We pass in True to use integer of bit 512\n",
        "prime(True)"
      ],
      "execution_count": 27,
      "outputs": [
        {
          "output_type": "stream",
          "text": [
            "Prime number is 4828107608391064574339395645015151249258049081364253824296722899550051738044149392913508359319118728012608801813688362950273552972616393948437459682922147\n",
            "Found after trying 139 numbers\n"
          ],
          "name": "stdout"
        }
      ]
    },
    {
      "cell_type": "code",
      "metadata": {
        "id": "TwHoMYpKFNzW",
        "colab": {
          "base_uri": "https://localhost:8080/"
        },
        "outputId": "9c2232fc-9f23-4854-ef39-7d18306fc75f"
      },
      "source": [
        "# We pass in False to use integer of bit 1024\n",
        "prime(False)"
      ],
      "execution_count": 28,
      "outputs": [
        {
          "output_type": "stream",
          "text": [
            "Prime number is 51298663180509798474519028605081253295119858950425839968692513266767136629205785161900516183889477305204563087902075538933586970628582439198529441245693306473173236880225127783410408003395449792328814834337161582555545329159235026583994180910900733042066962518407704636470825505929581872152086940076828985183\n",
            "Found after trying 634 numbers\n"
          ],
          "name": "stdout"
        }
      ]
    },
    {
      "cell_type": "markdown",
      "metadata": {
        "id": "a23EsVsjMZmq"
      },
      "source": [
        "**When we ran it:**\n",
        "\n",
        "\n",
        "For the 512 bit integer, 78 numbers were tried before we found a prime number. The number of candidates tried for each of those 78 numbers was 1(since we would see print statements when the number of candidates is more than 1). The average number of operations for each of the 78 numbers then is 1.\n",
        "\n",
        "For the 1024 bit integer, 621 numbers were tried before we found a prime number. The number of candidates tried for each of those 621 numbers was 1. The average number of operations for each of the 621 numbers then is 1."
      ]
    }
  ]
}